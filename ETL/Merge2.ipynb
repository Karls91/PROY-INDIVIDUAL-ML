{
 "cells": [
  {
   "cell_type": "markdown",
   "metadata": {},
   "source": [
    "### Realizando el merge2"
   ]
  },
  {
   "cell_type": "code",
   "execution_count": 1,
   "metadata": {},
   "outputs": [],
   "source": [
    "import pandas as pd\n"
   ]
  },
  {
   "cell_type": "markdown",
   "metadata": {},
   "source": [
    "Cargamos los dos datasets reviwes2.parquet y merge_games_items.parquet"
   ]
  },
  {
   "cell_type": "code",
   "execution_count": 2,
   "metadata": {},
   "outputs": [],
   "source": [
    "rutareviews = r'C:\\Users\\Coder\\Documents\\PI_ML_OPS\\Datos\\reviews2.parquet'\n",
    "reviews = pd.read_parquet(rutareviews)\n",
    "\n",
    "ruta_archivo = r'C:\\Users\\Coder\\Documents\\PI_ML_OPS\\Datos\\merge_games_items.parquet'\n",
    "merge_games_items = pd.read_parquet(ruta_archivo)"
   ]
  },
  {
   "cell_type": "markdown",
   "metadata": {},
   "source": [
    "Revisamos la información de los daframes:"
   ]
  },
  {
   "cell_type": "code",
   "execution_count": 3,
   "metadata": {},
   "outputs": [
    {
     "name": "stdout",
     "output_type": "stream",
     "text": [
      "<class 'pandas.core.frame.DataFrame'>\n",
      "RangeIndex: 21069 entries, 0 to 21068\n",
      "Data columns (total 6 columns):\n",
      " #   Column              Non-Null Count  Dtype  \n",
      "---  ------              --------------  -----  \n",
      " 0   user_id             21069 non-null  object \n",
      " 1   posted              21069 non-null  float64\n",
      " 2   item_id             21069 non-null  int64  \n",
      " 3   recommend           21069 non-null  bool   \n",
      " 4   review              21057 non-null  object \n",
      " 5   sentiment_analysis  21069 non-null  int64  \n",
      "dtypes: bool(1), float64(1), int64(2), object(2)\n",
      "memory usage: 843.7+ KB\n"
     ]
    }
   ],
   "source": [
    "reviews.info()"
   ]
  },
  {
   "cell_type": "code",
   "execution_count": 4,
   "metadata": {},
   "outputs": [
    {
     "name": "stdout",
     "output_type": "stream",
     "text": [
      "<class 'pandas.core.frame.DataFrame'>\n",
      "Index: 21057 entries, 0 to 21068\n",
      "Data columns (total 6 columns):\n",
      " #   Column              Non-Null Count  Dtype  \n",
      "---  ------              --------------  -----  \n",
      " 0   user_id             21057 non-null  object \n",
      " 1   posted              21057 non-null  float64\n",
      " 2   item_id             21057 non-null  int64  \n",
      " 3   recommend           21057 non-null  bool   \n",
      " 4   review              21057 non-null  object \n",
      " 5   sentiment_analysis  21057 non-null  int64  \n",
      "dtypes: bool(1), float64(1), int64(2), object(2)\n",
      "memory usage: 1007.6+ KB\n"
     ]
    }
   ],
   "source": [
    "#Eliminamos los valores nulos\n",
    "reviews = reviews.dropna()\n",
    "reviews.info()"
   ]
  },
  {
   "cell_type": "code",
   "execution_count": 5,
   "metadata": {},
   "outputs": [
    {
     "name": "stdout",
     "output_type": "stream",
     "text": [
      "<class 'pandas.core.frame.DataFrame'>\n",
      "RangeIndex: 61648 entries, 0 to 61647\n",
      "Data columns (total 10 columns):\n",
      " #   Column            Non-Null Count  Dtype  \n",
      "---  ------            --------------  -----  \n",
      " 0   user_id           61648 non-null  object \n",
      " 1   item_id           61648 non-null  int64  \n",
      " 2   item_name         61648 non-null  object \n",
      " 3   publisher         61648 non-null  object \n",
      " 4   genres            61648 non-null  object \n",
      " 5   title             61648 non-null  object \n",
      " 6   release_date      61648 non-null  float64\n",
      " 7   price             61648 non-null  float64\n",
      " 8   playtime_forever  61648 non-null  int64  \n",
      " 9   developer         61648 non-null  object \n",
      "dtypes: float64(2), int64(2), object(6)\n",
      "memory usage: 4.7+ MB\n"
     ]
    }
   ],
   "source": [
    "merge_games_items.info()"
   ]
  },
  {
   "cell_type": "markdown",
   "metadata": {},
   "source": [
    "Merge con la columna user_id:"
   ]
  },
  {
   "cell_type": "markdown",
   "metadata": {},
   "source": [
    "Instanciamos  las columnas que se utilizarán para combinar los DataFrames:"
   ]
  },
  {
   "cell_type": "code",
   "execution_count": 6,
   "metadata": {},
   "outputs": [
    {
     "data": {
      "text/plain": [
       "['user_id', 'posted', 'item_id', 'recommend', 'review', 'sentiment_analysis']"
      ]
     },
     "execution_count": 6,
     "metadata": {},
     "output_type": "execute_result"
    }
   ],
   "source": [
    "columRev = list(reviews.columns)\n",
    "columRev"
   ]
  },
  {
   "cell_type": "code",
   "execution_count": 7,
   "metadata": {},
   "outputs": [
    {
     "data": {
      "text/plain": [
       "['user_id',\n",
       " 'item_id',\n",
       " 'item_name',\n",
       " 'publisher',\n",
       " 'genres',\n",
       " 'title',\n",
       " 'release_date',\n",
       " 'price',\n",
       " 'playtime_forever',\n",
       " 'developer']"
      ]
     },
     "execution_count": 7,
     "metadata": {},
     "output_type": "execute_result"
    }
   ],
   "source": [
    "mergedColumns = list(merge_games_items.columns)\n",
    "mergedColumns"
   ]
  },
  {
   "cell_type": "code",
   "execution_count": 8,
   "metadata": {},
   "outputs": [],
   "source": [
    "columRev = ['user_id', 'posted', 'item_id', 'recommend', 'sentiment_analysis']\n",
    "mergedColumns = ['user_id', 'item_id', 'title', 'developer', 'genres', 'release_date', 'price', 'playtime_forever']"
   ]
  },
  {
   "cell_type": "markdown",
   "metadata": {},
   "source": [
    "Realizando el merge:"
   ]
  },
  {
   "cell_type": "code",
   "execution_count": 9,
   "metadata": {},
   "outputs": [],
   "source": [
    "merge = pd.merge(merge_games_items[mergedColumns],reviews[columRev], on='user_id' ,how='inner')"
   ]
  },
  {
   "cell_type": "code",
   "execution_count": 10,
   "metadata": {},
   "outputs": [
    {
     "data": {
      "text/html": [
       "<div>\n",
       "<style scoped>\n",
       "    .dataframe tbody tr th:only-of-type {\n",
       "        vertical-align: middle;\n",
       "    }\n",
       "\n",
       "    .dataframe tbody tr th {\n",
       "        vertical-align: top;\n",
       "    }\n",
       "\n",
       "    .dataframe thead th {\n",
       "        text-align: right;\n",
       "    }\n",
       "</style>\n",
       "<table border=\"1\" class=\"dataframe\">\n",
       "  <thead>\n",
       "    <tr style=\"text-align: right;\">\n",
       "      <th></th>\n",
       "      <th>user_id</th>\n",
       "      <th>item_id_x</th>\n",
       "      <th>title</th>\n",
       "      <th>developer</th>\n",
       "      <th>genres</th>\n",
       "      <th>release_date</th>\n",
       "      <th>price</th>\n",
       "      <th>playtime_forever</th>\n",
       "      <th>posted</th>\n",
       "      <th>item_id_y</th>\n",
       "      <th>recommend</th>\n",
       "      <th>sentiment_analysis</th>\n",
       "    </tr>\n",
       "  </thead>\n",
       "  <tbody>\n",
       "    <tr>\n",
       "      <th>0</th>\n",
       "      <td>76561197970982479</td>\n",
       "      <td>10</td>\n",
       "      <td>Counter-Strike</td>\n",
       "      <td>Valve</td>\n",
       "      <td>['Action']</td>\n",
       "      <td>2000.0</td>\n",
       "      <td>9.99</td>\n",
       "      <td>6</td>\n",
       "      <td>2011.0</td>\n",
       "      <td>1250</td>\n",
       "      <td>True</td>\n",
       "      <td>2</td>\n",
       "    </tr>\n",
       "    <tr>\n",
       "      <th>1</th>\n",
       "      <td>js41637</td>\n",
       "      <td>10</td>\n",
       "      <td>Counter-Strike</td>\n",
       "      <td>Valve</td>\n",
       "      <td>['Action']</td>\n",
       "      <td>2000.0</td>\n",
       "      <td>9.99</td>\n",
       "      <td>0</td>\n",
       "      <td>2014.0</td>\n",
       "      <td>251610</td>\n",
       "      <td>True</td>\n",
       "      <td>2</td>\n",
       "    </tr>\n",
       "    <tr>\n",
       "      <th>2</th>\n",
       "      <td>WeiEDKrSat</td>\n",
       "      <td>10</td>\n",
       "      <td>Counter-Strike</td>\n",
       "      <td>Valve</td>\n",
       "      <td>['Action']</td>\n",
       "      <td>2000.0</td>\n",
       "      <td>9.99</td>\n",
       "      <td>328</td>\n",
       "      <td>2013.0</td>\n",
       "      <td>4000</td>\n",
       "      <td>True</td>\n",
       "      <td>1</td>\n",
       "    </tr>\n",
       "    <tr>\n",
       "      <th>3</th>\n",
       "      <td>jarrodtrim</td>\n",
       "      <td>10</td>\n",
       "      <td>Counter-Strike</td>\n",
       "      <td>Valve</td>\n",
       "      <td>['Action']</td>\n",
       "      <td>2000.0</td>\n",
       "      <td>9.99</td>\n",
       "      <td>337</td>\n",
       "      <td>2012.0</td>\n",
       "      <td>440</td>\n",
       "      <td>True</td>\n",
       "      <td>2</td>\n",
       "    </tr>\n",
       "    <tr>\n",
       "      <th>4</th>\n",
       "      <td>UTNerd24</td>\n",
       "      <td>10</td>\n",
       "      <td>Counter-Strike</td>\n",
       "      <td>Valve</td>\n",
       "      <td>['Action']</td>\n",
       "      <td>2000.0</td>\n",
       "      <td>9.99</td>\n",
       "      <td>5</td>\n",
       "      <td>2014.0</td>\n",
       "      <td>244210</td>\n",
       "      <td>True</td>\n",
       "      <td>1</td>\n",
       "    </tr>\n",
       "  </tbody>\n",
       "</table>\n",
       "</div>"
      ],
      "text/plain": [
       "             user_id  item_id_x           title developer      genres   \n",
       "0  76561197970982479         10  Counter-Strike     Valve  ['Action']  \\\n",
       "1            js41637         10  Counter-Strike     Valve  ['Action']   \n",
       "2         WeiEDKrSat         10  Counter-Strike     Valve  ['Action']   \n",
       "3         jarrodtrim         10  Counter-Strike     Valve  ['Action']   \n",
       "4           UTNerd24         10  Counter-Strike     Valve  ['Action']   \n",
       "\n",
       "   release_date  price  playtime_forever  posted  item_id_y  recommend   \n",
       "0        2000.0   9.99                 6  2011.0       1250       True  \\\n",
       "1        2000.0   9.99                 0  2014.0     251610       True   \n",
       "2        2000.0   9.99               328  2013.0       4000       True   \n",
       "3        2000.0   9.99               337  2012.0        440       True   \n",
       "4        2000.0   9.99                 5  2014.0     244210       True   \n",
       "\n",
       "   sentiment_analysis  \n",
       "0                   2  \n",
       "1                   2  \n",
       "2                   1  \n",
       "3                   2  \n",
       "4                   1  "
      ]
     },
     "execution_count": 10,
     "metadata": {},
     "output_type": "execute_result"
    }
   ],
   "source": [
    "merge.head()"
   ]
  },
  {
   "cell_type": "code",
   "execution_count": 11,
   "metadata": {},
   "outputs": [
    {
     "data": {
      "text/plain": [
       "['user_id',\n",
       " 'item_id_x',\n",
       " 'title',\n",
       " 'developer',\n",
       " 'genres',\n",
       " 'release_date',\n",
       " 'price',\n",
       " 'playtime_forever',\n",
       " 'posted',\n",
       " 'item_id_y',\n",
       " 'recommend',\n",
       " 'sentiment_analysis']"
      ]
     },
     "execution_count": 11,
     "metadata": {},
     "output_type": "execute_result"
    }
   ],
   "source": [
    "mergelista = list(merge.columns)\n",
    "mergelista "
   ]
  },
  {
   "cell_type": "code",
   "execution_count": 12,
   "metadata": {},
   "outputs": [],
   "source": [
    "#Eliminamos la columna 'item_id_x' y renombramos la columna 'item_id_y' por 'item_id'\n",
    "merge.drop('item_id_x', axis=1, inplace=True)\n",
    "\n",
    "\n",
    "merge.rename(columns={'item_id_y': 'item_id'}, inplace=True)"
   ]
  },
  {
   "cell_type": "code",
   "execution_count": 13,
   "metadata": {},
   "outputs": [
    {
     "data": {
      "text/html": [
       "<div>\n",
       "<style scoped>\n",
       "    .dataframe tbody tr th:only-of-type {\n",
       "        vertical-align: middle;\n",
       "    }\n",
       "\n",
       "    .dataframe tbody tr th {\n",
       "        vertical-align: top;\n",
       "    }\n",
       "\n",
       "    .dataframe thead th {\n",
       "        text-align: right;\n",
       "    }\n",
       "</style>\n",
       "<table border=\"1\" class=\"dataframe\">\n",
       "  <thead>\n",
       "    <tr style=\"text-align: right;\">\n",
       "      <th></th>\n",
       "      <th>user_id</th>\n",
       "      <th>title</th>\n",
       "      <th>developer</th>\n",
       "      <th>genres</th>\n",
       "      <th>release_date</th>\n",
       "      <th>price</th>\n",
       "      <th>playtime_forever</th>\n",
       "      <th>posted</th>\n",
       "      <th>item_id</th>\n",
       "      <th>recommend</th>\n",
       "      <th>sentiment_analysis</th>\n",
       "    </tr>\n",
       "  </thead>\n",
       "  <tbody>\n",
       "    <tr>\n",
       "      <th>0</th>\n",
       "      <td>76561197970982479</td>\n",
       "      <td>Counter-Strike</td>\n",
       "      <td>Valve</td>\n",
       "      <td>['Action']</td>\n",
       "      <td>2000.0</td>\n",
       "      <td>9.99</td>\n",
       "      <td>6</td>\n",
       "      <td>2011.0</td>\n",
       "      <td>1250</td>\n",
       "      <td>True</td>\n",
       "      <td>2</td>\n",
       "    </tr>\n",
       "    <tr>\n",
       "      <th>1</th>\n",
       "      <td>js41637</td>\n",
       "      <td>Counter-Strike</td>\n",
       "      <td>Valve</td>\n",
       "      <td>['Action']</td>\n",
       "      <td>2000.0</td>\n",
       "      <td>9.99</td>\n",
       "      <td>0</td>\n",
       "      <td>2014.0</td>\n",
       "      <td>251610</td>\n",
       "      <td>True</td>\n",
       "      <td>2</td>\n",
       "    </tr>\n",
       "    <tr>\n",
       "      <th>2</th>\n",
       "      <td>WeiEDKrSat</td>\n",
       "      <td>Counter-Strike</td>\n",
       "      <td>Valve</td>\n",
       "      <td>['Action']</td>\n",
       "      <td>2000.0</td>\n",
       "      <td>9.99</td>\n",
       "      <td>328</td>\n",
       "      <td>2013.0</td>\n",
       "      <td>4000</td>\n",
       "      <td>True</td>\n",
       "      <td>1</td>\n",
       "    </tr>\n",
       "    <tr>\n",
       "      <th>3</th>\n",
       "      <td>jarrodtrim</td>\n",
       "      <td>Counter-Strike</td>\n",
       "      <td>Valve</td>\n",
       "      <td>['Action']</td>\n",
       "      <td>2000.0</td>\n",
       "      <td>9.99</td>\n",
       "      <td>337</td>\n",
       "      <td>2012.0</td>\n",
       "      <td>440</td>\n",
       "      <td>True</td>\n",
       "      <td>2</td>\n",
       "    </tr>\n",
       "    <tr>\n",
       "      <th>4</th>\n",
       "      <td>UTNerd24</td>\n",
       "      <td>Counter-Strike</td>\n",
       "      <td>Valve</td>\n",
       "      <td>['Action']</td>\n",
       "      <td>2000.0</td>\n",
       "      <td>9.99</td>\n",
       "      <td>5</td>\n",
       "      <td>2014.0</td>\n",
       "      <td>244210</td>\n",
       "      <td>True</td>\n",
       "      <td>1</td>\n",
       "    </tr>\n",
       "  </tbody>\n",
       "</table>\n",
       "</div>"
      ],
      "text/plain": [
       "             user_id           title developer      genres  release_date   \n",
       "0  76561197970982479  Counter-Strike     Valve  ['Action']        2000.0  \\\n",
       "1            js41637  Counter-Strike     Valve  ['Action']        2000.0   \n",
       "2         WeiEDKrSat  Counter-Strike     Valve  ['Action']        2000.0   \n",
       "3         jarrodtrim  Counter-Strike     Valve  ['Action']        2000.0   \n",
       "4           UTNerd24  Counter-Strike     Valve  ['Action']        2000.0   \n",
       "\n",
       "   price  playtime_forever  posted  item_id  recommend  sentiment_analysis  \n",
       "0   9.99                 6  2011.0     1250       True                   2  \n",
       "1   9.99                 0  2014.0   251610       True                   2  \n",
       "2   9.99               328  2013.0     4000       True                   1  \n",
       "3   9.99               337  2012.0      440       True                   2  \n",
       "4   9.99                 5  2014.0   244210       True                   1  "
      ]
     },
     "execution_count": 13,
     "metadata": {},
     "output_type": "execute_result"
    }
   ],
   "source": [
    "merge.head()"
   ]
  },
  {
   "cell_type": "code",
   "execution_count": 15,
   "metadata": {},
   "outputs": [
    {
     "name": "stdout",
     "output_type": "stream",
     "text": [
      "<class 'pandas.core.frame.DataFrame'>\n",
      "RangeIndex: 17628 entries, 0 to 17627\n",
      "Data columns (total 11 columns):\n",
      " #   Column              Non-Null Count  Dtype  \n",
      "---  ------              --------------  -----  \n",
      " 0   user_id             17628 non-null  object \n",
      " 1   title               17628 non-null  object \n",
      " 2   developer           17628 non-null  object \n",
      " 3   genres              17628 non-null  object \n",
      " 4   release_date        17628 non-null  float64\n",
      " 5   price               17628 non-null  float64\n",
      " 6   playtime_forever    17628 non-null  int64  \n",
      " 7   posted              17628 non-null  float64\n",
      " 8   item_id             17628 non-null  int64  \n",
      " 9   recommend           17628 non-null  bool   \n",
      " 10  sentiment_analysis  17628 non-null  int64  \n",
      "dtypes: bool(1), float64(3), int64(3), object(4)\n",
      "memory usage: 1.4+ MB\n"
     ]
    }
   ],
   "source": [
    "merge.info()"
   ]
  },
  {
   "cell_type": "markdown",
   "metadata": {},
   "source": [
    "Guardamos el dataframe en un archivo .parquet"
   ]
  },
  {
   "cell_type": "code",
   "execution_count": 14,
   "metadata": {},
   "outputs": [],
   "source": [
    "merge.to_parquet(r'C:\\Users\\Coder\\Documents\\PI_ML_OPS\\Datos\\mergeFinal.parquet')"
   ]
  }
 ],
 "metadata": {
  "kernelspec": {
   "display_name": "Python 3",
   "language": "python",
   "name": "python3"
  },
  "language_info": {
   "codemirror_mode": {
    "name": "ipython",
    "version": 3
   },
   "file_extension": ".py",
   "mimetype": "text/x-python",
   "name": "python",
   "nbconvert_exporter": "python",
   "pygments_lexer": "ipython3",
   "version": "3.11.0"
  }
 },
 "nbformat": 4,
 "nbformat_minor": 2
}
